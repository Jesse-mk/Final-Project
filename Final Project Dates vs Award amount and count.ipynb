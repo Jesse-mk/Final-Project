{
 "cells": [
  {
   "cell_type": "code",
   "execution_count": 1,
   "metadata": {},
   "outputs": [],
   "source": [
    "import pandas as pd\n",
    "import numpy as np\n",
    "import matplotlib.pyplot as plt\n",
    "import scipy as sci\n",
    "import math\n",
    "\n",
    "% matplotlib inline"
   ]
  },
  {
   "cell_type": "code",
   "execution_count": 2,
   "metadata": {},
   "outputs": [
    {
     "name": "stderr",
     "output_type": "stream",
     "text": [
      "C:\\Users\\jesse\\Anaconda3\\lib\\site-packages\\IPython\\core\\interactiveshell.py:2717: DtypeWarning: Columns (44,45) have mixed types. Specify dtype option on import or set low_memory=False.\n",
      "  interactivity=interactivity, compiler=compiler, result=result)\n"
     ]
    }
   ],
   "source": [
    "df = pd.read_csv(\"grants.csv\")"
   ]
  },
  {
   "cell_type": "code",
   "execution_count": 3,
   "metadata": {},
   "outputs": [
    {
     "data": {
      "text/html": [
       "<div>\n",
       "<style scoped>\n",
       "    .dataframe tbody tr th:only-of-type {\n",
       "        vertical-align: middle;\n",
       "    }\n",
       "\n",
       "    .dataframe tbody tr th {\n",
       "        vertical-align: top;\n",
       "    }\n",
       "\n",
       "    .dataframe thead th {\n",
       "        text-align: right;\n",
       "    }\n",
       "</style>\n",
       "<table border=\"1\" class=\"dataframe\">\n",
       "  <thead>\n",
       "    <tr style=\"text-align: right;\">\n",
       "      <th></th>\n",
       "      <th>Unnamed: 0</th>\n",
       "      <th>index</th>\n",
       "      <th>Awardee</th>\n",
       "      <th>Doing Business As Name</th>\n",
       "      <th>PD/PI Name</th>\n",
       "      <th>PD/PI Phone</th>\n",
       "      <th>PD/PI Email</th>\n",
       "      <th>Co-PD(s)/co-PI(s)</th>\n",
       "      <th>Award Date</th>\n",
       "      <th>Estimated Total Award Amount</th>\n",
       "      <th>...</th>\n",
       "      <th>Primary State</th>\n",
       "      <th>Primary ZIP</th>\n",
       "      <th>Primary County</th>\n",
       "      <th>Primary Country</th>\n",
       "      <th>Primary Cong. District</th>\n",
       "      <th>Abstract at Time of Award</th>\n",
       "      <th>Publications Produced as a Result of this Research</th>\n",
       "      <th>Publications Produced as Conference Proceedings</th>\n",
       "      <th>ProjectOutcomesReport</th>\n",
       "      <th>Unnamed: 44</th>\n",
       "    </tr>\n",
       "  </thead>\n",
       "  <tbody>\n",
       "    <tr>\n",
       "      <th>0</th>\n",
       "      <td>0</td>\n",
       "      <td>13988</td>\n",
       "      <td>TRUSTEES OF BOSTON UNIVERSITY</td>\n",
       "      <td>Trustees of Boston University</td>\n",
       "      <td>Patricia A McAnany</td>\n",
       "      <td>(919) 962-0524</td>\n",
       "      <td>mcanany@email.unc.edu</td>\n",
       "      <td>NaN</td>\n",
       "      <td>2006-10-02</td>\n",
       "      <td>12000.0</td>\n",
       "      <td>...</td>\n",
       "      <td>MA</td>\n",
       "      <td>02215-1300</td>\n",
       "      <td>Boston</td>\n",
       "      <td>US</td>\n",
       "      <td>=\"07\"</td>\n",
       "      <td>Under the supervision of Dr. Patricia McAnany,...</td>\n",
       "      <td>NaN</td>\n",
       "      <td>NaN</td>\n",
       "      <td>NaN</td>\n",
       "      <td>NaN</td>\n",
       "    </tr>\n",
       "    <tr>\n",
       "      <th>1</th>\n",
       "      <td>1</td>\n",
       "      <td>13987</td>\n",
       "      <td>FORDHAM UNIVERSITY</td>\n",
       "      <td>Fordham University</td>\n",
       "      <td>Edward B Dubrovsky</td>\n",
       "      <td>(718) 817-3660</td>\n",
       "      <td>dubrovsky@fordham.edu</td>\n",
       "      <td>NaN</td>\n",
       "      <td>2006-10-03</td>\n",
       "      <td>377929.0</td>\n",
       "      <td>...</td>\n",
       "      <td>NH</td>\n",
       "      <td>03755-1404</td>\n",
       "      <td>Hanover</td>\n",
       "      <td>US</td>\n",
       "      <td>=\"02\"</td>\n",
       "      <td>Juvenile hormone (JH) is a major component of ...</td>\n",
       "      <td>Xie, X; Dubrovskaya, VA; Dubrovsky, EB~RNAi kn...</td>\n",
       "      <td>NaN</td>\n",
       "      <td>NaN</td>\n",
       "      <td>NaN</td>\n",
       "    </tr>\n",
       "    <tr>\n",
       "      <th>2</th>\n",
       "      <td>2</td>\n",
       "      <td>13986</td>\n",
       "      <td>TRUSTEES OF THE UNVERSITY OF PENNSYLVANIA</td>\n",
       "      <td>University of Pennsylvania</td>\n",
       "      <td>Richard Berk</td>\n",
       "      <td>(310) 206-9544</td>\n",
       "      <td>berk@stat.ucla.edu</td>\n",
       "      <td>NaN</td>\n",
       "      <td>2006-10-04</td>\n",
       "      <td>0.0</td>\n",
       "      <td>...</td>\n",
       "      <td>PA</td>\n",
       "      <td>19104-6205</td>\n",
       "      <td>Philadelphia</td>\n",
       "      <td>US</td>\n",
       "      <td>=\"02\"</td>\n",
       "      <td>PROPOSAL ID: 0437169&lt;br/&gt;PRINCIPAL INVESTIGATO...</td>\n",
       "      <td>Berk, R.~Forecasting Murder within a Populatio...</td>\n",
       "      <td>NaN</td>\n",
       "      <td>NaN</td>\n",
       "      <td>NaN</td>\n",
       "    </tr>\n",
       "    <tr>\n",
       "      <th>3</th>\n",
       "      <td>3</td>\n",
       "      <td>13984</td>\n",
       "      <td>WEST VIRGINIA UNIVERSITY RESEARCH CORPORATION</td>\n",
       "      <td>West Virginia University Research Corporation</td>\n",
       "      <td>Bojan Cukic</td>\n",
       "      <td>(304) 293-9686</td>\n",
       "      <td>bojan.cukic@mail.wvu.edu</td>\n",
       "      <td>Bojan Cukic</td>\n",
       "      <td>2006-10-05</td>\n",
       "      <td>0.0</td>\n",
       "      <td>...</td>\n",
       "      <td>WV</td>\n",
       "      <td>=\"26506\"</td>\n",
       "      <td>NaN</td>\n",
       "      <td>US</td>\n",
       "      <td>=\"01\"</td>\n",
       "      <td>The existing Industry/University Cooperative R...</td>\n",
       "      <td>Ross, A~IRIS RECOGNITION: THE PATH FORWARD~COM...</td>\n",
       "      <td>Kalka, N;Bartlow, N;Cukic, B~An Automated Meth...</td>\n",
       "      <td>CITeR is the National Science Foundation (NSF)...</td>\n",
       "      <td>NaN</td>\n",
       "    </tr>\n",
       "    <tr>\n",
       "      <th>4</th>\n",
       "      <td>4</td>\n",
       "      <td>13985</td>\n",
       "      <td>UNIVERSITY OF GEORGIA RESEARCH FOUNDATION, INC.</td>\n",
       "      <td>University of Georgia Research Foundation Inc</td>\n",
       "      <td>John M Burke</td>\n",
       "      <td>(706) 542-3732</td>\n",
       "      <td>jmburke@uga.edu</td>\n",
       "      <td>NaN</td>\n",
       "      <td>2006-10-05</td>\n",
       "      <td>590887.0</td>\n",
       "      <td>...</td>\n",
       "      <td>GA</td>\n",
       "      <td>30602-7411</td>\n",
       "      <td>NaN</td>\n",
       "      <td>US</td>\n",
       "      <td>=\"10\"</td>\n",
       "      <td>Award Abstract&lt;br/&gt;&lt;br/&gt;The domestication of c...</td>\n",
       "      <td>Burger, J.C., M.A. Chapman, and J.M. Burke~Mol...</td>\n",
       "      <td>NaN</td>\n",
       "      <td>NaN</td>\n",
       "      <td>NaN</td>\n",
       "    </tr>\n",
       "  </tbody>\n",
       "</table>\n",
       "<p>5 rows × 47 columns</p>\n",
       "</div>"
      ],
      "text/plain": [
       "   Unnamed: 0  index                                          Awardee  \\\n",
       "0           0  13988                    TRUSTEES OF BOSTON UNIVERSITY   \n",
       "1           1  13987                               FORDHAM UNIVERSITY   \n",
       "2           2  13986        TRUSTEES OF THE UNVERSITY OF PENNSYLVANIA   \n",
       "3           3  13984    WEST VIRGINIA UNIVERSITY RESEARCH CORPORATION   \n",
       "4           4  13985  UNIVERSITY OF GEORGIA RESEARCH FOUNDATION, INC.   \n",
       "\n",
       "                          Doing Business As Name          PD/PI Name  \\\n",
       "0                  Trustees of Boston University  Patricia A McAnany   \n",
       "1                             Fordham University  Edward B Dubrovsky   \n",
       "2                     University of Pennsylvania        Richard Berk   \n",
       "3  West Virginia University Research Corporation         Bojan Cukic   \n",
       "4  University of Georgia Research Foundation Inc        John M Burke   \n",
       "\n",
       "      PD/PI Phone               PD/PI Email Co-PD(s)/co-PI(s)  Award Date  \\\n",
       "0  (919) 962-0524     mcanany@email.unc.edu               NaN  2006-10-02   \n",
       "1  (718) 817-3660     dubrovsky@fordham.edu               NaN  2006-10-03   \n",
       "2  (310) 206-9544        berk@stat.ucla.edu               NaN  2006-10-04   \n",
       "3  (304) 293-9686  bojan.cukic@mail.wvu.edu       Bojan Cukic  2006-10-05   \n",
       "4  (706) 542-3732           jmburke@uga.edu               NaN  2006-10-05   \n",
       "\n",
       "   Estimated Total Award Amount     ...      Primary State Primary ZIP  \\\n",
       "0                       12000.0     ...                 MA  02215-1300   \n",
       "1                      377929.0     ...                 NH  03755-1404   \n",
       "2                           0.0     ...                 PA  19104-6205   \n",
       "3                           0.0     ...                 WV    =\"26506\"   \n",
       "4                      590887.0     ...                 GA  30602-7411   \n",
       "\n",
       "  Primary County Primary Country Primary Cong. District  \\\n",
       "0         Boston              US                  =\"07\"   \n",
       "1        Hanover              US                  =\"02\"   \n",
       "2   Philadelphia              US                  =\"02\"   \n",
       "3            NaN              US                  =\"01\"   \n",
       "4            NaN              US                  =\"10\"   \n",
       "\n",
       "                           Abstract at Time of Award  \\\n",
       "0  Under the supervision of Dr. Patricia McAnany,...   \n",
       "1  Juvenile hormone (JH) is a major component of ...   \n",
       "2  PROPOSAL ID: 0437169<br/>PRINCIPAL INVESTIGATO...   \n",
       "3  The existing Industry/University Cooperative R...   \n",
       "4  Award Abstract<br/><br/>The domestication of c...   \n",
       "\n",
       "  Publications Produced as a Result of this Research  \\\n",
       "0                                                NaN   \n",
       "1  Xie, X; Dubrovskaya, VA; Dubrovsky, EB~RNAi kn...   \n",
       "2  Berk, R.~Forecasting Murder within a Populatio...   \n",
       "3  Ross, A~IRIS RECOGNITION: THE PATH FORWARD~COM...   \n",
       "4  Burger, J.C., M.A. Chapman, and J.M. Burke~Mol...   \n",
       "\n",
       "     Publications Produced as Conference Proceedings  \\\n",
       "0                                                NaN   \n",
       "1                                                NaN   \n",
       "2                                                NaN   \n",
       "3  Kalka, N;Bartlow, N;Cukic, B~An Automated Meth...   \n",
       "4                                                NaN   \n",
       "\n",
       "                               ProjectOutcomesReport Unnamed: 44  \n",
       "0                                                NaN         NaN  \n",
       "1                                                NaN         NaN  \n",
       "2                                                NaN         NaN  \n",
       "3  CITeR is the National Science Foundation (NSF)...         NaN  \n",
       "4                                                NaN         NaN  \n",
       "\n",
       "[5 rows x 47 columns]"
      ]
     },
     "execution_count": 3,
     "metadata": {},
     "output_type": "execute_result"
    }
   ],
   "source": [
    "#head of big dataframe\n",
    "df.head()"
   ]
  },
  {
   "cell_type": "code",
   "execution_count": 4,
   "metadata": {},
   "outputs": [
    {
     "data": {
      "text/plain": [
       "155099"
      ]
     },
     "execution_count": 4,
     "metadata": {},
     "output_type": "execute_result"
    }
   ],
   "source": [
    "len(df)"
   ]
  },
  {
   "cell_type": "markdown",
   "metadata": {},
   "source": [
    "Create a dataframe with only USA data points and create a datetime object to use later"
   ]
  },
  {
   "cell_type": "code",
   "execution_count": 5,
   "metadata": {},
   "outputs": [],
   "source": [
    "US = df[df[\"Primary Country\"] == \"US\"]\n",
    "USA = df[df[\"Primary Country\"] == \"USA\"]\n",
    "us_df = pd.concat([US, USA]) "
   ]
  },
  {
   "cell_type": "code",
   "execution_count": 6,
   "metadata": {},
   "outputs": [
    {
     "data": {
      "text/plain": [
       "153219"
      ]
     },
     "execution_count": 6,
     "metadata": {},
     "output_type": "execute_result"
    }
   ],
   "source": [
    "len(us_df)"
   ]
  },
  {
   "cell_type": "code",
   "execution_count": 7,
   "metadata": {},
   "outputs": [],
   "source": [
    "us_df[\"Award Date\"] = us_df[\"Award Date\"].apply(lambda x: x[:-2] + \"01\")"
   ]
  },
  {
   "cell_type": "code",
   "execution_count": 8,
   "metadata": {},
   "outputs": [],
   "source": [
    "from datetime import date, time, datetime\n",
    "us_df[\"Award Date\"] = list(map(lambda x: datetime.strptime(x,'%Y-%m-%d'), us_df[\"Award Date\"]))"
   ]
  },
  {
   "cell_type": "code",
   "execution_count": 9,
   "metadata": {},
   "outputs": [
    {
     "data": {
      "text/plain": [
       "Timestamp('2006-10-01 00:00:00')"
      ]
     },
     "execution_count": 9,
     "metadata": {},
     "output_type": "execute_result"
    }
   ],
   "source": [
    "us_df[\"Award Date\"][0]"
   ]
  },
  {
   "cell_type": "code",
   "execution_count": 10,
   "metadata": {},
   "outputs": [],
   "source": [
    "us_df_sort = us_df.drop_duplicates()"
   ]
  },
  {
   "cell_type": "code",
   "execution_count": 11,
   "metadata": {},
   "outputs": [
    {
     "data": {
      "text/plain": [
       "153219"
      ]
     },
     "execution_count": 11,
     "metadata": {},
     "output_type": "execute_result"
    }
   ],
   "source": [
    "len(us_df_sort)"
   ]
  },
  {
   "cell_type": "markdown",
   "metadata": {},
   "source": [
    "Create a grouped table to use for aggregate counts/means for different months/years."
   ]
  },
  {
   "cell_type": "code",
   "execution_count": 12,
   "metadata": {},
   "outputs": [
    {
     "data": {
      "text/html": [
       "<div>\n",
       "<style scoped>\n",
       "    .dataframe tbody tr th:only-of-type {\n",
       "        vertical-align: middle;\n",
       "    }\n",
       "\n",
       "    .dataframe tbody tr th {\n",
       "        vertical-align: top;\n",
       "    }\n",
       "\n",
       "    .dataframe thead tr th {\n",
       "        text-align: left;\n",
       "    }\n",
       "</style>\n",
       "<table border=\"1\" class=\"dataframe\">\n",
       "  <thead>\n",
       "    <tr>\n",
       "      <th></th>\n",
       "      <th>Award Date</th>\n",
       "      <th colspan=\"2\" halign=\"left\">Unnamed: 0</th>\n",
       "      <th colspan=\"2\" halign=\"left\">index</th>\n",
       "      <th colspan=\"2\" halign=\"left\">Estimated Total Award Amount</th>\n",
       "      <th colspan=\"2\" halign=\"left\">Funds Obligated to Date</th>\n",
       "      <th colspan=\"2\" halign=\"left\">Unnamed: 44</th>\n",
       "    </tr>\n",
       "    <tr>\n",
       "      <th></th>\n",
       "      <th></th>\n",
       "      <th>count</th>\n",
       "      <th>mean</th>\n",
       "      <th>count</th>\n",
       "      <th>mean</th>\n",
       "      <th>count</th>\n",
       "      <th>mean</th>\n",
       "      <th>count</th>\n",
       "      <th>mean</th>\n",
       "      <th>count</th>\n",
       "      <th>mean</th>\n",
       "    </tr>\n",
       "  </thead>\n",
       "  <tbody>\n",
       "    <tr>\n",
       "      <th>0</th>\n",
       "      <td>2006-10-01</td>\n",
       "      <td>124</td>\n",
       "      <td>61.500000</td>\n",
       "      <td>124</td>\n",
       "      <td>13926.500000</td>\n",
       "      <td>124</td>\n",
       "      <td>273456.701613</td>\n",
       "      <td>124</td>\n",
       "      <td>470900.229274</td>\n",
       "      <td>0</td>\n",
       "      <td>NaN</td>\n",
       "    </tr>\n",
       "    <tr>\n",
       "      <th>1</th>\n",
       "      <td>2006-11-01</td>\n",
       "      <td>304</td>\n",
       "      <td>275.500000</td>\n",
       "      <td>304</td>\n",
       "      <td>13712.500000</td>\n",
       "      <td>304</td>\n",
       "      <td>401312.164474</td>\n",
       "      <td>304</td>\n",
       "      <td>651405.188487</td>\n",
       "      <td>0</td>\n",
       "      <td>NaN</td>\n",
       "    </tr>\n",
       "    <tr>\n",
       "      <th>2</th>\n",
       "      <td>2006-12-01</td>\n",
       "      <td>456</td>\n",
       "      <td>655.769737</td>\n",
       "      <td>456</td>\n",
       "      <td>13332.225877</td>\n",
       "      <td>456</td>\n",
       "      <td>269361.094298</td>\n",
       "      <td>456</td>\n",
       "      <td>444250.563860</td>\n",
       "      <td>0</td>\n",
       "      <td>NaN</td>\n",
       "    </tr>\n",
       "    <tr>\n",
       "      <th>3</th>\n",
       "      <td>2007-01-01</td>\n",
       "      <td>683</td>\n",
       "      <td>1226.000000</td>\n",
       "      <td>683</td>\n",
       "      <td>12762.000000</td>\n",
       "      <td>683</td>\n",
       "      <td>276697.023426</td>\n",
       "      <td>683</td>\n",
       "      <td>548793.428726</td>\n",
       "      <td>0</td>\n",
       "      <td>NaN</td>\n",
       "    </tr>\n",
       "    <tr>\n",
       "      <th>4</th>\n",
       "      <td>2007-02-01</td>\n",
       "      <td>686</td>\n",
       "      <td>1912.179300</td>\n",
       "      <td>686</td>\n",
       "      <td>12075.832362</td>\n",
       "      <td>686</td>\n",
       "      <td>260660.638484</td>\n",
       "      <td>686</td>\n",
       "      <td>372531.521953</td>\n",
       "      <td>0</td>\n",
       "      <td>NaN</td>\n",
       "    </tr>\n",
       "  </tbody>\n",
       "</table>\n",
       "</div>"
      ],
      "text/plain": [
       "  Award Date Unnamed: 0              index                \\\n",
       "                  count         mean count          mean   \n",
       "0 2006-10-01        124    61.500000   124  13926.500000   \n",
       "1 2006-11-01        304   275.500000   304  13712.500000   \n",
       "2 2006-12-01        456   655.769737   456  13332.225877   \n",
       "3 2007-01-01        683  1226.000000   683  12762.000000   \n",
       "4 2007-02-01        686  1912.179300   686  12075.832362   \n",
       "\n",
       "  Estimated Total Award Amount                Funds Obligated to Date  \\\n",
       "                         count           mean                   count   \n",
       "0                          124  273456.701613                     124   \n",
       "1                          304  401312.164474                     304   \n",
       "2                          456  269361.094298                     456   \n",
       "3                          683  276697.023426                     683   \n",
       "4                          686  260660.638484                     686   \n",
       "\n",
       "                 Unnamed: 44       \n",
       "            mean       count mean  \n",
       "0  470900.229274           0  NaN  \n",
       "1  651405.188487           0  NaN  \n",
       "2  444250.563860           0  NaN  \n",
       "3  548793.428726           0  NaN  \n",
       "4  372531.521953           0  NaN  "
      ]
     },
     "execution_count": 12,
     "metadata": {},
     "output_type": "execute_result"
    }
   ],
   "source": [
    "grouped = us_df.groupby([\"Award Date\"], as_index = False).agg(['count', 'mean'])\n",
    "grouped.reset_index(level=0, inplace=True)\n",
    "grouped.head()"
   ]
  },
  {
   "cell_type": "markdown",
   "metadata": {},
   "source": [
    "Create the award means/counts columns in the grouped df (for easy access)."
   ]
  },
  {
   "cell_type": "code",
   "execution_count": 13,
   "metadata": {},
   "outputs": [
    {
     "data": {
      "text/plain": [
       "([124, 304, 456, 683, 686],\n",
       " [470900.2292741935,\n",
       "  651405.1884868421,\n",
       "  444250.5638596491,\n",
       "  548793.4287262079,\n",
       "  372531.5219533527],\n",
       " [470900, 651405, 444251, 548793, 372532])"
      ]
     },
     "execution_count": 13,
     "metadata": {},
     "output_type": "execute_result"
    }
   ],
   "source": [
    "awards_count = list(grouped.iloc[:,7])\n",
    "awards_mean = list(grouped.iloc[:,8])\n",
    "mean = [round(award) for award in awards_mean]\n",
    "awards_count[:5], awards_mean[:5], mean[:5]\n"
   ]
  },
  {
   "cell_type": "code",
   "execution_count": 14,
   "metadata": {},
   "outputs": [],
   "source": [
    "grouped[\"mean\"] = mean\n",
    "grouped[\"count\"]= awards_count"
   ]
  },
  {
   "cell_type": "markdown",
   "metadata": {},
   "source": [
    "Create a month/year (datetime object and int values) to add to the grouped dataframe"
   ]
  },
  {
   "cell_type": "code",
   "execution_count": 17,
   "metadata": {},
   "outputs": [],
   "source": [
    "grouped[\"Award Date month\"] = list(map(lambda x: x.month, grouped[\"Award Date\"]))\n",
    "grouped[\"Award Date year\"] = list(map(lambda x: x.year, grouped[\"Award Date\"]))\n",
    "grouped[\"Award Date month non timestamp\"] = list(map(lambda x: int(x.month), grouped[\"Award Date\"]))\n",
    "grouped[\"Award Date year non timestamp\"] = list(map(lambda x: int(x.year), grouped[\"Award Date\"]))"
   ]
  },
  {
   "cell_type": "code",
   "execution_count": 18,
   "metadata": {},
   "outputs": [
    {
     "data": {
      "text/html": [
       "<div>\n",
       "<style scoped>\n",
       "    .dataframe tbody tr th:only-of-type {\n",
       "        vertical-align: middle;\n",
       "    }\n",
       "\n",
       "    .dataframe tbody tr th {\n",
       "        vertical-align: top;\n",
       "    }\n",
       "\n",
       "    .dataframe thead tr th {\n",
       "        text-align: left;\n",
       "    }\n",
       "</style>\n",
       "<table border=\"1\" class=\"dataframe\">\n",
       "  <thead>\n",
       "    <tr>\n",
       "      <th></th>\n",
       "      <th>Award Date</th>\n",
       "      <th colspan=\"2\" halign=\"left\">Unnamed: 0</th>\n",
       "      <th colspan=\"2\" halign=\"left\">index</th>\n",
       "      <th colspan=\"2\" halign=\"left\">Estimated Total Award Amount</th>\n",
       "      <th colspan=\"2\" halign=\"left\">Funds Obligated to Date</th>\n",
       "      <th colspan=\"2\" halign=\"left\">Unnamed: 44</th>\n",
       "      <th>mean</th>\n",
       "      <th>count</th>\n",
       "      <th>Award Date month</th>\n",
       "      <th>Award Date year</th>\n",
       "      <th>Award Date month non timestamp</th>\n",
       "      <th>Award Date year non timestamp</th>\n",
       "    </tr>\n",
       "    <tr>\n",
       "      <th></th>\n",
       "      <th></th>\n",
       "      <th>count</th>\n",
       "      <th>mean</th>\n",
       "      <th>count</th>\n",
       "      <th>mean</th>\n",
       "      <th>count</th>\n",
       "      <th>mean</th>\n",
       "      <th>count</th>\n",
       "      <th>mean</th>\n",
       "      <th>count</th>\n",
       "      <th>mean</th>\n",
       "      <th></th>\n",
       "      <th></th>\n",
       "      <th></th>\n",
       "      <th></th>\n",
       "      <th></th>\n",
       "      <th></th>\n",
       "    </tr>\n",
       "  </thead>\n",
       "  <tbody>\n",
       "    <tr>\n",
       "      <th>0</th>\n",
       "      <td>2006-10-01</td>\n",
       "      <td>124</td>\n",
       "      <td>61.500000</td>\n",
       "      <td>124</td>\n",
       "      <td>13926.500000</td>\n",
       "      <td>124</td>\n",
       "      <td>273456.701613</td>\n",
       "      <td>124</td>\n",
       "      <td>470900.229274</td>\n",
       "      <td>0</td>\n",
       "      <td>NaN</td>\n",
       "      <td>470900</td>\n",
       "      <td>124</td>\n",
       "      <td>10</td>\n",
       "      <td>2006</td>\n",
       "      <td>10</td>\n",
       "      <td>2006</td>\n",
       "    </tr>\n",
       "    <tr>\n",
       "      <th>1</th>\n",
       "      <td>2006-11-01</td>\n",
       "      <td>304</td>\n",
       "      <td>275.500000</td>\n",
       "      <td>304</td>\n",
       "      <td>13712.500000</td>\n",
       "      <td>304</td>\n",
       "      <td>401312.164474</td>\n",
       "      <td>304</td>\n",
       "      <td>651405.188487</td>\n",
       "      <td>0</td>\n",
       "      <td>NaN</td>\n",
       "      <td>651405</td>\n",
       "      <td>304</td>\n",
       "      <td>11</td>\n",
       "      <td>2006</td>\n",
       "      <td>11</td>\n",
       "      <td>2006</td>\n",
       "    </tr>\n",
       "    <tr>\n",
       "      <th>2</th>\n",
       "      <td>2006-12-01</td>\n",
       "      <td>456</td>\n",
       "      <td>655.769737</td>\n",
       "      <td>456</td>\n",
       "      <td>13332.225877</td>\n",
       "      <td>456</td>\n",
       "      <td>269361.094298</td>\n",
       "      <td>456</td>\n",
       "      <td>444250.563860</td>\n",
       "      <td>0</td>\n",
       "      <td>NaN</td>\n",
       "      <td>444251</td>\n",
       "      <td>456</td>\n",
       "      <td>12</td>\n",
       "      <td>2006</td>\n",
       "      <td>12</td>\n",
       "      <td>2006</td>\n",
       "    </tr>\n",
       "    <tr>\n",
       "      <th>3</th>\n",
       "      <td>2007-01-01</td>\n",
       "      <td>683</td>\n",
       "      <td>1226.000000</td>\n",
       "      <td>683</td>\n",
       "      <td>12762.000000</td>\n",
       "      <td>683</td>\n",
       "      <td>276697.023426</td>\n",
       "      <td>683</td>\n",
       "      <td>548793.428726</td>\n",
       "      <td>0</td>\n",
       "      <td>NaN</td>\n",
       "      <td>548793</td>\n",
       "      <td>683</td>\n",
       "      <td>1</td>\n",
       "      <td>2007</td>\n",
       "      <td>1</td>\n",
       "      <td>2007</td>\n",
       "    </tr>\n",
       "    <tr>\n",
       "      <th>4</th>\n",
       "      <td>2007-02-01</td>\n",
       "      <td>686</td>\n",
       "      <td>1912.179300</td>\n",
       "      <td>686</td>\n",
       "      <td>12075.832362</td>\n",
       "      <td>686</td>\n",
       "      <td>260660.638484</td>\n",
       "      <td>686</td>\n",
       "      <td>372531.521953</td>\n",
       "      <td>0</td>\n",
       "      <td>NaN</td>\n",
       "      <td>372532</td>\n",
       "      <td>686</td>\n",
       "      <td>2</td>\n",
       "      <td>2007</td>\n",
       "      <td>2</td>\n",
       "      <td>2007</td>\n",
       "    </tr>\n",
       "  </tbody>\n",
       "</table>\n",
       "</div>"
      ],
      "text/plain": [
       "  Award Date Unnamed: 0              index                \\\n",
       "                  count         mean count          mean   \n",
       "0 2006-10-01        124    61.500000   124  13926.500000   \n",
       "1 2006-11-01        304   275.500000   304  13712.500000   \n",
       "2 2006-12-01        456   655.769737   456  13332.225877   \n",
       "3 2007-01-01        683  1226.000000   683  12762.000000   \n",
       "4 2007-02-01        686  1912.179300   686  12075.832362   \n",
       "\n",
       "  Estimated Total Award Amount                Funds Obligated to Date  \\\n",
       "                         count           mean                   count   \n",
       "0                          124  273456.701613                     124   \n",
       "1                          304  401312.164474                     304   \n",
       "2                          456  269361.094298                     456   \n",
       "3                          683  276697.023426                     683   \n",
       "4                          686  260660.638484                     686   \n",
       "\n",
       "                 Unnamed: 44         mean count Award Date month  \\\n",
       "            mean       count mean                                  \n",
       "0  470900.229274           0  NaN  470900   124               10   \n",
       "1  651405.188487           0  NaN  651405   304               11   \n",
       "2  444250.563860           0  NaN  444251   456               12   \n",
       "3  548793.428726           0  NaN  548793   683                1   \n",
       "4  372531.521953           0  NaN  372532   686                2   \n",
       "\n",
       "  Award Date year Award Date month non timestamp Award Date year non timestamp  \n",
       "                                                                                \n",
       "0            2006                             10                          2006  \n",
       "1            2006                             11                          2006  \n",
       "2            2006                             12                          2006  \n",
       "3            2007                              1                          2007  \n",
       "4            2007                              2                          2007  "
      ]
     },
     "execution_count": 18,
     "metadata": {},
     "output_type": "execute_result"
    }
   ],
   "source": [
    "grouped.head()"
   ]
  },
  {
   "cell_type": "markdown",
   "metadata": {},
   "source": [
    "Create a month/year (datetime object and int values) to add to the usa dataframe"
   ]
  },
  {
   "cell_type": "code",
   "execution_count": 20,
   "metadata": {},
   "outputs": [],
   "source": [
    "us_df[\"Award Date month\"] = list(map(lambda x: x.month, us_df[\"Award Date\"]))\n",
    "us_df[\"Award Date year\"] = list(map(lambda x: x.year, us_df[\"Award Date\"]))\n",
    "us_df[\"Award Date month non timestamp\"] = list(map(lambda x: int(x.month), us_df[\"Award Date\"]))\n",
    "us_df[\"Award Date year non timestamp\"] = list(map(lambda x: int(x.year), us_df[\"Award Date\"]))\n",
    "months = list(grouped[\"Award Date month\"])\n"
   ]
  },
  {
   "cell_type": "code",
   "execution_count": 21,
   "metadata": {},
   "outputs": [
    {
     "data": {
      "text/html": [
       "<div>\n",
       "<style scoped>\n",
       "    .dataframe tbody tr th:only-of-type {\n",
       "        vertical-align: middle;\n",
       "    }\n",
       "\n",
       "    .dataframe tbody tr th {\n",
       "        vertical-align: top;\n",
       "    }\n",
       "\n",
       "    .dataframe thead th {\n",
       "        text-align: right;\n",
       "    }\n",
       "</style>\n",
       "<table border=\"1\" class=\"dataframe\">\n",
       "  <thead>\n",
       "    <tr style=\"text-align: right;\">\n",
       "      <th></th>\n",
       "      <th>Unnamed: 0</th>\n",
       "      <th>index</th>\n",
       "      <th>Awardee</th>\n",
       "      <th>Doing Business As Name</th>\n",
       "      <th>PD/PI Name</th>\n",
       "      <th>PD/PI Phone</th>\n",
       "      <th>PD/PI Email</th>\n",
       "      <th>Co-PD(s)/co-PI(s)</th>\n",
       "      <th>Award Date</th>\n",
       "      <th>Estimated Total Award Amount</th>\n",
       "      <th>...</th>\n",
       "      <th>Primary Cong. District</th>\n",
       "      <th>Abstract at Time of Award</th>\n",
       "      <th>Publications Produced as a Result of this Research</th>\n",
       "      <th>Publications Produced as Conference Proceedings</th>\n",
       "      <th>ProjectOutcomesReport</th>\n",
       "      <th>Unnamed: 44</th>\n",
       "      <th>Award Date month</th>\n",
       "      <th>Award Date year</th>\n",
       "      <th>Award Date month non timestamp</th>\n",
       "      <th>Award Date year non timestamp</th>\n",
       "    </tr>\n",
       "  </thead>\n",
       "  <tbody>\n",
       "    <tr>\n",
       "      <th>0</th>\n",
       "      <td>0</td>\n",
       "      <td>13988</td>\n",
       "      <td>TRUSTEES OF BOSTON UNIVERSITY</td>\n",
       "      <td>Trustees of Boston University</td>\n",
       "      <td>Patricia A McAnany</td>\n",
       "      <td>(919) 962-0524</td>\n",
       "      <td>mcanany@email.unc.edu</td>\n",
       "      <td>NaN</td>\n",
       "      <td>2006-10-01</td>\n",
       "      <td>12000.0</td>\n",
       "      <td>...</td>\n",
       "      <td>=\"07\"</td>\n",
       "      <td>Under the supervision of Dr. Patricia McAnany,...</td>\n",
       "      <td>NaN</td>\n",
       "      <td>NaN</td>\n",
       "      <td>NaN</td>\n",
       "      <td>NaN</td>\n",
       "      <td>10</td>\n",
       "      <td>2006</td>\n",
       "      <td>10</td>\n",
       "      <td>2006</td>\n",
       "    </tr>\n",
       "    <tr>\n",
       "      <th>1</th>\n",
       "      <td>1</td>\n",
       "      <td>13987</td>\n",
       "      <td>FORDHAM UNIVERSITY</td>\n",
       "      <td>Fordham University</td>\n",
       "      <td>Edward B Dubrovsky</td>\n",
       "      <td>(718) 817-3660</td>\n",
       "      <td>dubrovsky@fordham.edu</td>\n",
       "      <td>NaN</td>\n",
       "      <td>2006-10-01</td>\n",
       "      <td>377929.0</td>\n",
       "      <td>...</td>\n",
       "      <td>=\"02\"</td>\n",
       "      <td>Juvenile hormone (JH) is a major component of ...</td>\n",
       "      <td>Xie, X; Dubrovskaya, VA; Dubrovsky, EB~RNAi kn...</td>\n",
       "      <td>NaN</td>\n",
       "      <td>NaN</td>\n",
       "      <td>NaN</td>\n",
       "      <td>10</td>\n",
       "      <td>2006</td>\n",
       "      <td>10</td>\n",
       "      <td>2006</td>\n",
       "    </tr>\n",
       "    <tr>\n",
       "      <th>2</th>\n",
       "      <td>2</td>\n",
       "      <td>13986</td>\n",
       "      <td>TRUSTEES OF THE UNVERSITY OF PENNSYLVANIA</td>\n",
       "      <td>University of Pennsylvania</td>\n",
       "      <td>Richard Berk</td>\n",
       "      <td>(310) 206-9544</td>\n",
       "      <td>berk@stat.ucla.edu</td>\n",
       "      <td>NaN</td>\n",
       "      <td>2006-10-01</td>\n",
       "      <td>0.0</td>\n",
       "      <td>...</td>\n",
       "      <td>=\"02\"</td>\n",
       "      <td>PROPOSAL ID: 0437169&lt;br/&gt;PRINCIPAL INVESTIGATO...</td>\n",
       "      <td>Berk, R.~Forecasting Murder within a Populatio...</td>\n",
       "      <td>NaN</td>\n",
       "      <td>NaN</td>\n",
       "      <td>NaN</td>\n",
       "      <td>10</td>\n",
       "      <td>2006</td>\n",
       "      <td>10</td>\n",
       "      <td>2006</td>\n",
       "    </tr>\n",
       "    <tr>\n",
       "      <th>3</th>\n",
       "      <td>3</td>\n",
       "      <td>13984</td>\n",
       "      <td>WEST VIRGINIA UNIVERSITY RESEARCH CORPORATION</td>\n",
       "      <td>West Virginia University Research Corporation</td>\n",
       "      <td>Bojan Cukic</td>\n",
       "      <td>(304) 293-9686</td>\n",
       "      <td>bojan.cukic@mail.wvu.edu</td>\n",
       "      <td>Bojan Cukic</td>\n",
       "      <td>2006-10-01</td>\n",
       "      <td>0.0</td>\n",
       "      <td>...</td>\n",
       "      <td>=\"01\"</td>\n",
       "      <td>The existing Industry/University Cooperative R...</td>\n",
       "      <td>Ross, A~IRIS RECOGNITION: THE PATH FORWARD~COM...</td>\n",
       "      <td>Kalka, N;Bartlow, N;Cukic, B~An Automated Meth...</td>\n",
       "      <td>CITeR is the National Science Foundation (NSF)...</td>\n",
       "      <td>NaN</td>\n",
       "      <td>10</td>\n",
       "      <td>2006</td>\n",
       "      <td>10</td>\n",
       "      <td>2006</td>\n",
       "    </tr>\n",
       "    <tr>\n",
       "      <th>4</th>\n",
       "      <td>4</td>\n",
       "      <td>13985</td>\n",
       "      <td>UNIVERSITY OF GEORGIA RESEARCH FOUNDATION, INC.</td>\n",
       "      <td>University of Georgia Research Foundation Inc</td>\n",
       "      <td>John M Burke</td>\n",
       "      <td>(706) 542-3732</td>\n",
       "      <td>jmburke@uga.edu</td>\n",
       "      <td>NaN</td>\n",
       "      <td>2006-10-01</td>\n",
       "      <td>590887.0</td>\n",
       "      <td>...</td>\n",
       "      <td>=\"10\"</td>\n",
       "      <td>Award Abstract&lt;br/&gt;&lt;br/&gt;The domestication of c...</td>\n",
       "      <td>Burger, J.C., M.A. Chapman, and J.M. Burke~Mol...</td>\n",
       "      <td>NaN</td>\n",
       "      <td>NaN</td>\n",
       "      <td>NaN</td>\n",
       "      <td>10</td>\n",
       "      <td>2006</td>\n",
       "      <td>10</td>\n",
       "      <td>2006</td>\n",
       "    </tr>\n",
       "  </tbody>\n",
       "</table>\n",
       "<p>5 rows × 51 columns</p>\n",
       "</div>"
      ],
      "text/plain": [
       "   Unnamed: 0  index                                          Awardee  \\\n",
       "0           0  13988                    TRUSTEES OF BOSTON UNIVERSITY   \n",
       "1           1  13987                               FORDHAM UNIVERSITY   \n",
       "2           2  13986        TRUSTEES OF THE UNVERSITY OF PENNSYLVANIA   \n",
       "3           3  13984    WEST VIRGINIA UNIVERSITY RESEARCH CORPORATION   \n",
       "4           4  13985  UNIVERSITY OF GEORGIA RESEARCH FOUNDATION, INC.   \n",
       "\n",
       "                          Doing Business As Name          PD/PI Name  \\\n",
       "0                  Trustees of Boston University  Patricia A McAnany   \n",
       "1                             Fordham University  Edward B Dubrovsky   \n",
       "2                     University of Pennsylvania        Richard Berk   \n",
       "3  West Virginia University Research Corporation         Bojan Cukic   \n",
       "4  University of Georgia Research Foundation Inc        John M Burke   \n",
       "\n",
       "      PD/PI Phone               PD/PI Email Co-PD(s)/co-PI(s) Award Date  \\\n",
       "0  (919) 962-0524     mcanany@email.unc.edu               NaN 2006-10-01   \n",
       "1  (718) 817-3660     dubrovsky@fordham.edu               NaN 2006-10-01   \n",
       "2  (310) 206-9544        berk@stat.ucla.edu               NaN 2006-10-01   \n",
       "3  (304) 293-9686  bojan.cukic@mail.wvu.edu       Bojan Cukic 2006-10-01   \n",
       "4  (706) 542-3732           jmburke@uga.edu               NaN 2006-10-01   \n",
       "\n",
       "   Estimated Total Award Amount              ...               \\\n",
       "0                       12000.0              ...                \n",
       "1                      377929.0              ...                \n",
       "2                           0.0              ...                \n",
       "3                           0.0              ...                \n",
       "4                      590887.0              ...                \n",
       "\n",
       "   Primary Cong. District                          Abstract at Time of Award  \\\n",
       "0                   =\"07\"  Under the supervision of Dr. Patricia McAnany,...   \n",
       "1                   =\"02\"  Juvenile hormone (JH) is a major component of ...   \n",
       "2                   =\"02\"  PROPOSAL ID: 0437169<br/>PRINCIPAL INVESTIGATO...   \n",
       "3                   =\"01\"  The existing Industry/University Cooperative R...   \n",
       "4                   =\"10\"  Award Abstract<br/><br/>The domestication of c...   \n",
       "\n",
       "  Publications Produced as a Result of this Research  \\\n",
       "0                                                NaN   \n",
       "1  Xie, X; Dubrovskaya, VA; Dubrovsky, EB~RNAi kn...   \n",
       "2  Berk, R.~Forecasting Murder within a Populatio...   \n",
       "3  Ross, A~IRIS RECOGNITION: THE PATH FORWARD~COM...   \n",
       "4  Burger, J.C., M.A. Chapman, and J.M. Burke~Mol...   \n",
       "\n",
       "     Publications Produced as Conference Proceedings  \\\n",
       "0                                                NaN   \n",
       "1                                                NaN   \n",
       "2                                                NaN   \n",
       "3  Kalka, N;Bartlow, N;Cukic, B~An Automated Meth...   \n",
       "4                                                NaN   \n",
       "\n",
       "                               ProjectOutcomesReport Unnamed: 44  \\\n",
       "0                                                NaN         NaN   \n",
       "1                                                NaN         NaN   \n",
       "2                                                NaN         NaN   \n",
       "3  CITeR is the National Science Foundation (NSF)...         NaN   \n",
       "4                                                NaN         NaN   \n",
       "\n",
       "  Award Date month Award Date year Award Date month non timestamp  \\\n",
       "0               10            2006                             10   \n",
       "1               10            2006                             10   \n",
       "2               10            2006                             10   \n",
       "3               10            2006                             10   \n",
       "4               10            2006                             10   \n",
       "\n",
       "  Award Date year non timestamp  \n",
       "0                          2006  \n",
       "1                          2006  \n",
       "2                          2006  \n",
       "3                          2006  \n",
       "4                          2006  \n",
       "\n",
       "[5 rows x 51 columns]"
      ]
     },
     "execution_count": 21,
     "metadata": {},
     "output_type": "execute_result"
    }
   ],
   "source": [
    "us_df.head()"
   ]
  },
  {
   "cell_type": "markdown",
   "metadata": {},
   "source": [
    "### trying to plot the award amount per date, it's too much for 1 graph (unclear trends)"
   ]
  },
  {
   "cell_type": "code",
   "execution_count": 22,
   "metadata": {},
   "outputs": [
    {
     "data": {
      "text/plain": [
       "<matplotlib.collections.PathCollection at 0x14329c01eb8>"
      ]
     },
     "execution_count": 22,
     "metadata": {},
     "output_type": "execute_result"
    },
    {
     "data": {
      "image/png": "[encoded data removed]",
      "text/plain": [
       "<matplotlib.figure.Figure at 0x1430f40b668>"
      ]
     },
     "metadata": {
      "needs_background": "light"
     },
     "output_type": "display_data"
    }
   ],
   "source": [
    "plt.scatter(list(us_df[\"Award Date\"]), list(us_df[\"Estimated Total Award Amount\"]))"
   ]
  },
  {
   "cell_type": "markdown",
   "metadata": {},
   "source": [
    "### plotting the award date vs the mean amount in awards"
   ]
  },
  {
   "cell_type": "code",
   "execution_count": 23,
   "metadata": {},
   "outputs": [
    {
     "data": {
      "text/plain": [
       "<matplotlib.collections.PathCollection at 0x143298b9438>"
      ]
     },
     "execution_count": 23,
     "metadata": {},
     "output_type": "execute_result"
    },
    {
     "data": {
      "image/png": "[encoded data removed]",
      "text/plain": [
       "<matplotlib.figure.Figure at 0x14329bf56d8>"
      ]
     },
     "metadata": {
      "needs_background": "light"
     },
     "output_type": "display_data"
    }
   ],
   "source": [
    "plt.scatter(list(grouped[\"Award Date\"]), mean, c= months)"
   ]
  },
  {
   "cell_type": "markdown",
   "metadata": {},
   "source": [
    "### plotting the award count over time for the dataset"
   ]
  },
  {
   "cell_type": "code",
   "execution_count": 24,
   "metadata": {},
   "outputs": [
    {
     "data": {
      "text/plain": [
       "<matplotlib.collections.PathCollection at 0x1432997f860>"
      ]
     },
     "execution_count": 24,
     "metadata": {},
     "output_type": "execute_result"
    },
    {
     "data": {
      "image/png": "[encoded data removed]",
      "text/plain": [
       "<matplotlib.figure.Figure at 0x143298e8518>"
      ]
     },
     "metadata": {
      "needs_background": "light"
     },
     "output_type": "display_data"
    }
   ],
   "source": [
    "plt.scatter(list(grouped[\"Award Date\"]), awards_count, c = months)\n"
   ]
  },
  {
   "cell_type": "code",
   "execution_count": 25,
   "metadata": {},
   "outputs": [],
   "source": [
    "corr_month_mean = grouped[\"Award Date month non timestamp\"].corr(grouped[\"mean\"])\n",
    "corr_year_mean = grouped[\"Award Date year non timestamp\"].corr(grouped[\"mean\"])\n",
    "corr_month_count = grouped[\"Award Date month non timestamp\"].corr(grouped[\"count\"])\n",
    "corr_year_count = grouped[\"Award Date year non timestamp\"].corr(grouped[\"count\"])"
   ]
  },
  {
   "cell_type": "code",
   "execution_count": 26,
   "metadata": {},
   "outputs": [],
   "source": [
    "import statsmodels.api as sm\n",
    "import statsmodels.formula.api as smf"
   ]
  },
  {
   "cell_type": "code",
   "execution_count": 27,
   "metadata": {},
   "outputs": [
    {
     "data": {
      "text/plain": [
       "(0.14482204266888551,\n",
       " -0.19151125358263218,\n",
       " 0.014435453960704041,\n",
       " 0.0036742969775268855)"
      ]
     },
     "execution_count": 27,
     "metadata": {},
     "output_type": "execute_result"
    }
   ],
   "source": [
    "corr_month_mean, corr_year_mean, corr_month_count,corr_year_count"
   ]
  },
  {
   "cell_type": "markdown",
   "metadata": {},
   "source": [
    "### The correlation between the month/year and the mean Award amount per month\n",
    "\n",
    "no statistically significant correlation"
   ]
  },
  {
   "cell_type": "code",
   "execution_count": 28,
   "metadata": {},
   "outputs": [
    {
     "name": "stdout",
     "output_type": "stream",
     "text": [
      "                            OLS Regression Results                            \n",
      "==============================================================================\n",
      "Dep. Variable:                      y   R-squared:                       0.053\n",
      "Model:                            OLS   Adj. R-squared:                  0.038\n",
      "Method:                 Least Squares   F-statistic:                     3.591\n",
      "Date:                Sun, 02 Dec 2018   Prob (F-statistic):             0.0303\n",
      "Time:                        13:20:18   Log-Likelihood:                -1966.5\n",
      "No. Observations:                 132   AIC:                             3939.\n",
      "Df Residuals:                     129   BIC:                             3948.\n",
      "Df Model:                           2                                         \n",
      "Covariance Type:            nonrobust                                         \n",
      "==================================================================================================\n",
      "                                     coef    std err          t      P>|t|      [0.025      0.975]\n",
      "--------------------------------------------------------------------------------------------------\n",
      "const                           7.935e+07    3.8e+07      2.087      0.039    4.11e+06    1.55e+08\n",
      "Award Date month non timestamp  2.707e+04   1.83e+04      1.479      0.142   -9137.931    6.33e+04\n",
      "Award Date year non timestamp  -3.931e+04   1.89e+04     -2.080      0.039   -7.67e+04   -1918.721\n",
      "==============================================================================\n",
      "Omnibus:                      266.869   Durbin-Watson:                   2.038\n",
      "Prob(Omnibus):                  0.000   Jarque-Bera (JB):            62953.519\n",
      "Skew:                           9.933   Prob(JB):                         0.00\n",
      "Kurtosis:                     108.126   Cond. No.                     1.22e+06\n",
      "==============================================================================\n",
      "\n",
      "Warnings:\n",
      "[1] Standard Errors assume that the covariance matrix of the errors is correctly specified.\n",
      "[2] The condition number is large, 1.22e+06. This might indicate that there are\n",
      "strong multicollinearity or other numerical problems.\n"
     ]
    },
    {
     "data": {
      "text/plain": [
       "const                             0.038901\n",
       "Award Date month non timestamp    0.141512\n",
       "Award Date year non timestamp     0.039499\n",
       "dtype: float64"
      ]
     },
     "execution_count": 28,
     "metadata": {},
     "output_type": "execute_result"
    }
   ],
   "source": [
    "x = pd.concat([grouped[\"Award Date month non timestamp\"], grouped[\"Award Date year non timestamp\"]], axis = 1)\n",
    "X = sm.add_constant(x)\n",
    "y = list((grouped[\"mean\"]))\n",
    "model = sm.OLS(y,X)\n",
    "results = model.fit()\n",
    "print(results.summary())\n",
    "results.pvalues"
   ]
  },
  {
   "cell_type": "markdown",
   "metadata": {},
   "source": [
    "### The correlation between the Award month/year and the count of awards given\n",
    "\n",
    "no statistically sig corr between date/ count"
   ]
  },
  {
   "cell_type": "code",
   "execution_count": 29,
   "metadata": {},
   "outputs": [
    {
     "name": "stdout",
     "output_type": "stream",
     "text": [
      "                            OLS Regression Results                            \n",
      "==============================================================================\n",
      "Dep. Variable:                      y   R-squared:                       0.000\n",
      "Model:                            OLS   Adj. R-squared:                 -0.015\n",
      "Method:                 Least Squares   F-statistic:                   0.01513\n",
      "Date:                Sun, 02 Dec 2018   Prob (F-statistic):              0.985\n",
      "Time:                        13:20:19   Log-Likelihood:                -1087.4\n",
      "No. Observations:                 132   AIC:                             2181.\n",
      "Df Residuals:                     129   BIC:                             2189.\n",
      "Df Model:                           2                                         \n",
      "Covariance Type:            nonrobust                                         \n",
      "==================================================================================================\n",
      "                                     coef    std err          t      P>|t|      [0.025      0.975]\n",
      "--------------------------------------------------------------------------------------------------\n",
      "const                          -1689.3137   4.87e+04     -0.035      0.972   -9.81e+04    9.47e+04\n",
      "Award Date month non timestamp     3.9587     23.445      0.169      0.866     -42.428      50.346\n",
      "Award Date year non timestamp      1.4039     24.206      0.058      0.954     -46.489      49.297\n",
      "==============================================================================\n",
      "Omnibus:                       28.342   Durbin-Watson:                   0.849\n",
      "Prob(Omnibus):                  0.000   Jarque-Bera (JB):               38.277\n",
      "Skew:                           1.216   Prob(JB):                     4.88e-09\n",
      "Kurtosis:                       4.023   Cond. No.                     1.22e+06\n",
      "==============================================================================\n",
      "\n",
      "Warnings:\n",
      "[1] Standard Errors assume that the covariance matrix of the errors is correctly specified.\n",
      "[2] The condition number is large, 1.22e+06. This might indicate that there are\n",
      "strong multicollinearity or other numerical problems.\n"
     ]
    },
    {
     "data": {
      "text/plain": [
       "const                             0.972390\n",
       "Award Date month non timestamp    0.866182\n",
       "Award Date year non timestamp     0.953842\n",
       "dtype: float64"
      ]
     },
     "execution_count": 29,
     "metadata": {},
     "output_type": "execute_result"
    }
   ],
   "source": [
    "x = pd.concat([grouped[\"Award Date month non timestamp\"], grouped[\"Award Date year non timestamp\"]], axis = 1)\n",
    "X = sm.add_constant(x)\n",
    "y = list((grouped[\"count\"]))\n",
    "model = sm.OLS(y,X)\n",
    "results = model.fit()\n",
    "print(results.summary())\n",
    "results.pvalues"
   ]
  },
  {
   "cell_type": "markdown",
   "metadata": {},
   "source": [
    "### The correlation between month and year and the Estimated total award amount for the UNGROUPED us data\n",
    "\n",
    "for the ungrouped data there is statistically significant data for the total award amount and the month/year. Will look into this further."
   ]
  },
  {
   "cell_type": "code",
   "execution_count": 30,
   "metadata": {},
   "outputs": [
    {
     "name": "stdout",
     "output_type": "stream",
     "text": [
      "                            OLS Regression Results                            \n",
      "==============================================================================\n",
      "Dep. Variable:                      y   R-squared:                       0.001\n",
      "Model:                            OLS   Adj. R-squared:                  0.001\n",
      "Method:                 Least Squares   F-statistic:                     47.52\n",
      "Date:                Sun, 02 Dec 2018   Prob (F-statistic):           2.33e-21\n",
      "Time:                        13:20:19   Log-Likelihood:            -2.5197e+06\n",
      "No. Observations:              153219   AIC:                         5.039e+06\n",
      "Df Residuals:                  153216   BIC:                         5.039e+06\n",
      "Df Model:                           2                                         \n",
      "Covariance Type:            nonrobust                                         \n",
      "==================================================================================================\n",
      "                                     coef    std err          t      P>|t|      [0.025      0.975]\n",
      "--------------------------------------------------------------------------------------------------\n",
      "const                          -3.692e+07   5.24e+06     -7.051      0.000   -4.72e+07   -2.67e+07\n",
      "Award Date month non timestamp   2.34e+04   3315.220      7.058      0.000    1.69e+04    2.99e+04\n",
      "Award Date year non timestamp   1.847e+04   2601.695      7.101      0.000    1.34e+04    2.36e+04\n",
      "==============================================================================\n",
      "Omnibus:                   590973.868   Durbin-Watson:                   1.961\n",
      "Prob(Omnibus):                  0.000   Jarque-Bera (JB):     732480798169.401\n",
      "Skew:                          91.468   Prob(JB):                         0.00\n",
      "Kurtosis:                   10712.867   Cond. No.                     1.23e+06\n",
      "==============================================================================\n",
      "\n",
      "Warnings:\n",
      "[1] Standard Errors assume that the covariance matrix of the errors is correctly specified.\n",
      "[2] The condition number is large, 1.23e+06. This might indicate that there are\n",
      "strong multicollinearity or other numerical problems.\n"
     ]
    },
    {
     "data": {
      "text/plain": [
       "const                             1.778272e-12\n",
       "Award Date month non timestamp    1.690492e-12\n",
       "Award Date year non timestamp     1.247492e-12\n",
       "dtype: float64"
      ]
     },
     "execution_count": 30,
     "metadata": {},
     "output_type": "execute_result"
    }
   ],
   "source": [
    "x = pd.concat([us_df[\"Award Date month non timestamp\"], us_df[\"Award Date year non timestamp\"]], axis = 1)\n",
    "X = sm.add_constant(x)\n",
    "y = list((us_df['Estimated Total Award Amount']))\n",
    "model = sm.OLS(y,X)\n",
    "results = model.fit()\n",
    "print(results.summary())\n",
    "results.pvalues"
   ]
  }
 ],
 "metadata": {
  "kernelspec": {
   "display_name": "Python 3",
   "language": "python",
   "name": "python3"
  },
  "language_info": {
   "codemirror_mode": {
    "name": "ipython",
    "version": 3
   },
   "file_extension": ".py",
   "mimetype": "text/x-python",
   "name": "python",
   "nbconvert_exporter": "python",
   "pygments_lexer": "ipython3",
   "version": "3.6.7"
  }
 },
 "nbformat": 4,
 "nbformat_minor": 2
}
